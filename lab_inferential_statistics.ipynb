{
 "cells": [
  {
   "cell_type": "code",
   "execution_count": 1,
   "id": "f582a411",
   "metadata": {},
   "outputs": [],
   "source": [
    "import numpy as np\n",
    "import pandas as pd\n",
    "\n",
    "import seaborn as sns\n",
    "import matplotlib.pyplot as plt\n",
    "%matplotlib inline \n"
   ]
  },
  {
   "cell_type": "markdown",
   "id": "92de5443",
   "metadata": {},
   "source": [
    "It is assumed that the mean systolic blood pressure is μ = 120 mm Hg. In the Honolulu Heart Study, a sample of n = 100 people had an average systolic blood pressure of 130.1 mm Hg with a standard deviation of 21.21 mm Hg. Is the group significantly different (with respect to systolic blood pressure!) from the regular population?"
   ]
  },
  {
   "cell_type": "markdown",
   "id": "61a0e99d",
   "metadata": {},
   "source": [
    "## 1. Set up the hypothesis test."
   ]
  },
  {
   "cell_type": "code",
   "execution_count": 2,
   "id": "8442139d",
   "metadata": {},
   "outputs": [
    {
     "name": "stdout",
     "output_type": "stream",
     "text": [
      "Statistic is:  4.761904761904759\n"
     ]
    }
   ],
   "source": [
    "from statistics import math\n",
    "sample_mean = 130.1\n",
    "pop_mean = 120\n",
    "pop_std = 21.21\n",
    "n = 100\n",
    "statistic = (sample_mean -pop_mean)/(pop_std/math.sqrt(n))\n",
    "print('Statistic is: ', statistic)"
   ]
  },
  {
   "cell_type": "markdown",
   "id": "b0f34252",
   "metadata": {},
   "source": [
    "## 2. Write down all the steps followed for setting up the test.\n"
   ]
  },
  {
   "cell_type": "markdown",
   "id": "6ac6221d",
   "metadata": {},
   "source": [
    "1. Import the math module\n",
    "2. Set up the sample mean\n",
    "3. Define the known population mean\n",
    "4. Define the sample population standard deviaion\n",
    "5. Define the sample size\n",
    "6. Calculate and print the statistic"
   ]
  }
 ],
 "metadata": {
  "kernelspec": {
   "display_name": "Python 3",
   "language": "python",
   "name": "python3"
  },
  "language_info": {
   "codemirror_mode": {
    "name": "ipython",
    "version": 3
   },
   "file_extension": ".py",
   "mimetype": "text/x-python",
   "name": "python",
   "nbconvert_exporter": "python",
   "pygments_lexer": "ipython3",
   "version": "3.8.8"
  }
 },
 "nbformat": 4,
 "nbformat_minor": 5
}
